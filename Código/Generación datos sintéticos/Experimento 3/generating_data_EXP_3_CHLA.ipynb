{
  "cells": [
    {
      "cell_type": "markdown",
      "metadata": {},
      "source": [
        "# TFM - Big Data Analytics\n",
        "\n",
        "## Generación datos sintéticos - Experimento 3 (Clorofila A)\n",
        "\n",
        "### Virginia Casino Sánchez (vcassan@disca.upv.es)"
      ]
    },
    {
      "cell_type": "markdown",
      "metadata": {
        "id": "BPkJtZxSzyh6"
      },
      "source": [
        "# Librerías #"
      ]
    },
    {
      "cell_type": "code",
      "execution_count": null,
      "metadata": {
        "colab": {
          "base_uri": "https://localhost:8080/"
        },
        "id": "-prDVwydzyiB",
        "outputId": "ab179009-31c1-4f92-ef01-ec2dc0b9bd28"
      },
      "outputs": [],
      "source": [
        "%%time\n",
        "\n",
        "import os\n",
        "#os.environ[\"CUDA_VISIBLE_DEVICES\"]=\"0\"\n",
        "#os.environ[\"CUDA_LAUNCH_BLOCKING\"]=\"1\"\n",
        "import sys\n",
        "import pathlib\n",
        "from pathlib import Path\n",
        "import glob\n",
        "from glob import glob\n",
        "import math\n",
        "from math import sqrt, log, prod\n",
        "import collections\n",
        "from collections import OrderedDict\n",
        "import pickle\n",
        "from pickle import dump\n",
        "import warnings\n",
        "\n",
        "try:\n",
        "    import numpy as np; print('NumPy version: ', np.__version__)\n",
        "    from numpy import array, asarray, delete, append, concatenate\n",
        "except:\n",
        "    !{sys.executable} -m pip install numpy==1.19.5\n",
        "    import numpy as np; print('NumPy version: ', np.__version__)\n",
        "    from numpy import array, asarray, delete, append, concatenate\n",
        "\n",
        "try:\n",
        "    import pandas as pd; print('Pandas version: ', pd.__version__)\n",
        "    from pandas import read_csv, DataFrame, concat\n",
        "except:\n",
        "    !{sys.executable} -m pip install pandas\n",
        "    import pandas as pd; print('Pandas version: ', pd.__version__)\n",
        "    from pandas import read_csv, DataFrame, concat\n",
        "\n",
        "try:\n",
        "    import matplotlib as mpl; print('MatPlotLib version: ', mpl.__version__)\n",
        "    from matplotlib import pyplot as plt\n",
        "    from matplotlib import dates as md\n",
        "except:\n",
        "    !{sys.executable} -m pip install matplotlib\n",
        "    import matplotlib as mpl; print('MatPlotLib version: ', mpl.__version__)\n",
        "    from matplotlib import pyplot as plt\n",
        "    from matplotlib import dates as md\n",
        "\n",
        "try:\n",
        "    import tensorflow as tf\n",
        "    import tensorflow.keras as keras\n",
        "    print('TensorFlow version: ', tf.__version__)\n",
        "    #print('Keras version: ', tf.keras.__version__)\n",
        "    from tensorflow.keras import backend as K\n",
        "    from tensorflow.keras.models import Sequential\n",
        "    from tensorflow.keras.layers import TimeDistributed, Conv1D, MaxPooling1D, Flatten, LSTM, Dense\n",
        "    from tensorflow.keras.callbacks import Callback, EarlyStopping, ReduceLROnPlateau\n",
        "except:\n",
        "    !{sys.executable} -m pip install tensorflow\n",
        "    import tensorflow as tf\n",
        "    import tensorflow.keras as keras\n",
        "    print('TensorFlow version: ', tf.__version__)\n",
        "    #print('Keras version: ', tf.keras.__version__)\n",
        "    from tensorflow.keras import backend as K\n",
        "    from tensorflow.keras.models import Sequential\n",
        "    from tensorflow.keras.layers import TimeDistributed, Conv1D, MaxPooling1D, Flatten, LSTM, Dense\n",
        "    from tensorflow.keras.callbacks import Callback, EarlyStopping, ReduceLROnPlateau\n",
        "\n",
        "# Biblioteca para Aprendizaje Profundo\n",
        "try:\n",
        "    import torch as torch; print('Torch version: ', torch.__version__)\n",
        "except:\n",
        "    !{sys.executable} -m pip install torch\n",
        "    import torch as torch; print('Torch version: ', torch.__version__)\n",
        "\n",
        "# Biblioteca para Generación de datos sintéticos\n",
        "try:\n",
        "    import gretel_synthetics as gs\n",
        "    from gretel_synthetics.timeseries_dgan.dgan import DGAN\n",
        "    from gretel_synthetics.timeseries_dgan.config import DGANConfig, OutputType\n",
        "    from gretel_synthetics.timeseries_dgan.config import Normalization\n",
        "except:\n",
        "    !{sys.executable} -m pip install gretel-synthetics==0.18.1\n",
        "    #  !{sys.executable} -m pip install git+https://github.com/gretelai/gretel-synthetics.git\n",
        "    import gretel_synthetics as gs\n",
        "    from gretel_synthetics.timeseries_dgan.dgan import DGAN\n",
        "    from gretel_synthetics.timeseries_dgan.config import DGANConfig, OutputType\n",
        "    from gretel_synthetics.timeseries_dgan.config import Normalization\n",
        "\n",
        "import openpyxl\n",
        "from openpyxl import Workbook\n",
        "\n",
        "from scipy.spatial.distance import jensenshannon\n",
        "from scipy.stats import wasserstein_distance\n",
        "from scipy.stats import ks_2samp\n",
        "import matplotlib.ticker as ticker\n",
        "\n",
        "import time\n",
        "\n",
        "# Configuraciones\n",
        "np.set_printoptions(linewidth=1000)\n",
        "pd.set_option('display.max_columns', None)\n",
        "torch.set_num_threads(60)\n",
        "#warnings.filterwarnings('ignore')\n",
        "\n",
        "print()"
      ]
    },
    {
      "cell_type": "markdown",
      "metadata": {
        "id": "2clqvGDQBnp9"
      },
      "source": [
        "# Parámetros a configurar #"
      ]
    },
    {
      "cell_type": "code",
      "execution_count": null,
      "metadata": {
        "colab": {
          "base_uri": "https://localhost:8080/"
        },
        "id": "48R_VcyQ5tBd",
        "outputId": "9879d925-08c6-40dc-92d1-0e9d0a73370a"
      },
      "outputs": [],
      "source": [
        "%%time\n",
        "\n",
        "exp = 3\n",
        "prueba = 64\n",
        "\n",
        "look_back = 12\n",
        "\n",
        "keys = [1,2,10]\n",
        "\n",
        "FILE = 'data_chla.csv'\n",
        "key = FILE"
      ]
    },
    {
      "cell_type": "code",
      "execution_count": null,
      "metadata": {
        "id": "n0g9JkCGBqX9"
      },
      "outputs": [],
      "source": [
        "batch_size_min = 32\n",
        "attribute_noise_dim = 10\n",
        "feature_noise_dim = 10\n",
        "attribute_num_layers = 3\n",
        "attribute_num_units = 100\n",
        "feature_num_layers = 1\n",
        "feature_num_units = 100\n",
        "use_attribute_discriminator = True\n",
        "normalization = Normalization.ZERO_ONE\n",
        "apply_feature_scaling = True\n",
        "apply_example_scaling = True\n",
        "#binary_encoder_cutoff = 150\n",
        "forget_bias = False\n",
        "gradient_penalty_coef = 10.0\n",
        "attribute_gradient_penalty_coef = 10.0\n",
        "attribute_loss_coef = 1.0\n",
        "generator_learning_rate= 0.001\n",
        "generator_beta1 = 0.5\n",
        "discriminator_learning_rate = 0.001\n",
        "discriminator_beta1 = 0.5\n",
        "attribute_discriminator_learning_rate = 0.001\n",
        "attribute_discriminator_beta1 = 0.5\n",
        "epochs = 500\n",
        "discriminator_rounds = 1\n",
        "generator_rounds = 1\n",
        "mixed_precision_training = False"
      ]
    },
    {
      "cell_type": "markdown",
      "metadata": {
        "id": "LeoY-P9BzyiI"
      },
      "source": [
        "# Métodos #"
      ]
    },
    {
      "cell_type": "code",
      "execution_count": null,
      "metadata": {
        "colab": {
          "base_uri": "https://localhost:8080/"
        },
        "id": "YT5CqyKtzyiK",
        "outputId": "e302f75b-b26e-4ed8-f9d4-e74dbfff1aab"
      },
      "outputs": [],
      "source": [
        "%%time\n",
        "\n",
        "# Mostrar algunas de las muestras de formación de 1 día\n",
        "def plot_day(real, generated, k, label):\n",
        "    file_svg_cmp = f'comp_{exp}_{prueba}_synth-{label}.svg'\n",
        "    file_png_cmp = f'comp_{exp}_{prueba}_synth-{label}.png'\n",
        "\n",
        "    ancho = 15\n",
        "    alto = 7\n",
        "    label_x = 'Fecha'\n",
        "    label_y = 'Clorofila (mg/m3)'\n",
        "    titulo = f'Comparativa Experimento {exp} Prueba {prueba}'\n",
        "\n",
        "\n",
        "    xaxis_1day = dataset.index[0:real.shape[0]]\n",
        "    # Crea una figura con dos gráficos uno al lado del otro\n",
        "    fig, ax = plt.subplots(figsize=(ancho, alto)) # Ajusta el tamaño según prefieras\n",
        "\n",
        "    # Dibuja la primera gráfica\n",
        "    for i, c in enumerate(dataset.columns):\n",
        "        plt.plot(xaxis_1day, real[:, i], label=c, color = 'royalblue')\n",
        "        plt.plot(xaxis_1day, generated[:, i], label=c, color = 'seagreen')\n",
        "\n",
        "    # axs[0].legend(fontsize=20)\n",
        "    ax.set_xlabel(label_x, fontsize=30, labelpad=25)\n",
        "    ax.set_ylabel(label_y, fontsize=30, labelpad=25)\n",
        "    # axs[0].xaxis.set_major_locator(md.HourLocator(byhour=range(2, 24, 3)))\n",
        "    # axs[0].xaxis.set_major_formatter(md.DateFormatter(\"%H:%M\"))\n",
        "    ax.set_title(titulo, fontsize=35, pad=10)\n",
        "\n",
        "    ax.set_facecolor('white')\n",
        "    ax.grid(True, color='lightgrey', linestyle='--', linewidth=0.7, axis='y', which='major')\n",
        "    ax.yaxis.grid(True, color='lightgrey', linestyle='--', linewidth=0.2, which='minor')\n",
        "    ax.yaxis.set_major_locator(ticker.MultipleLocator(5))\n",
        "    ax.yaxis.set_minor_locator(ticker.MultipleLocator(10))\n",
        "    ax.tick_params(axis='y', labelsize=25)\n",
        "    ax.tick_params(axis='x', which='major', labelsize=25, rotation= 90)\n",
        "    ax.spines['top'].set_visible(False)\n",
        "    ax.spines['right'].set_visible(False)\n",
        "\n",
        "    # xaxis_2day = dataset.index[0:generated.shape[0]]\n",
        "    # # Dibuja la segunda gráfica (igual a la primera)\n",
        "    # for i, c in enumerate(dataset.columns):\n",
        "    #     axs[1].plot(xaxis_2day, generated[:, i], label=c, color = 'seagreen')\n",
        "\n",
        "    # # axs[1].legend(fontsize=20)\n",
        "    # axs[1].set_xlabel(label_x, fontsize=25, labelpad=25)\n",
        "    # axs[1].set_ylabel(label_y, fontsize=25, labelpad=25)\n",
        "    # axs[1].set_title('Valores generados', fontsize=25, pad=10)\n",
        "\n",
        "    # axs[1].set_facecolor('white')\n",
        "    # axs[1].grid(True, color='lightgrey', linestyle='--', linewidth=0.7, axis='y', which='major')\n",
        "    # axs[1].yaxis.grid(True, color='lightgrey', linestyle='--', linewidth=0.2, which='minor')\n",
        "    # axs[1].yaxis.set_major_locator(ticker.MultipleLocator(5))\n",
        "    # axs[1].yaxis.set_minor_locator(ticker.MultipleLocator(10))\n",
        "    # axs[1].tick_params(axis='y', labelsize=25)\n",
        "    # axs[1].tick_params(axis='x', which='major', labelsize=25, rotation= 90)\n",
        "    # axs[1].spines['top'].set_visible(False)\n",
        "    # axs[1].spines['right'].set_visible(False)\n",
        "\n",
        "    # # Ajusta la disposición y guarda la figura\n",
        "    # # plt.tight_layout()\n",
        "    # # plt.savefig(f\"numEx{prueba}-{label}-{key}.jpg\", bbox_inches='tight')\n",
        "    # # plt.show()\n",
        "    # Ajustar imagen\n",
        "    plt.tight_layout()\n",
        "\n",
        "    # Guardar imagen\n",
        "    plt.savefig(file_svg_cmp, format='svg')\n",
        "    plt.savefig(file_png_cmp, format='png')\n",
        "\n",
        "    # Mostrar imagen\n",
        "    plt.show()\n",
        "\n",
        "def excel_ejecuciones(datos):\n",
        "    nombre_archivo = f'ejecuciones_{exp}_{prueba}.xlsx'\n",
        "    try:\n",
        "        # Intentar cargar el archivo existente\n",
        "        libro_excel = openpyxl.load_workbook(nombre_archivo)\n",
        "        hoja_excel = libro_excel.active\n",
        "    except FileNotFoundError:\n",
        "        # Si el archivo no existe, crear uno nuevo\n",
        "        libro_excel = Workbook()\n",
        "        hoja_excel = libro_excel.active\n",
        "\n",
        "        # Añadir encabezados si es la primera vez que se crea el archivo\n",
        "        encabezados = ['Experimento',\n",
        "                       'Prueba',\n",
        "                       'max_sequence_len',\n",
        "                       'sample_len',\n",
        "                       'attribute_noise_dim',\n",
        "                       'feature_noise_dim',\n",
        "                       'attribute_num_layers',\n",
        "                       'attribute_num_units',\n",
        "                       'feature_num_layers',\n",
        "                       'feature_num_units',\n",
        "                       'use_attribute_discriminator',\n",
        "                       'normalization',\n",
        "                       'apply_feature_scaling',\n",
        "                       'apply_example_scaling',\n",
        "                       'forget_bias',\n",
        "                       'gradient_penalty_coef',\n",
        "                       'attribute_gradient_penalty_coef',\n",
        "                       'attribute_loss_coef',\n",
        "                       'generator_learning_rate',\n",
        "                       'generator_beta1',\n",
        "                       'discriminator_learning_rate',\n",
        "                       'discriminator_beta1',\n",
        "                       'attribute_discriminator_learning_rate',\n",
        "                       'attribute_discriminator_beta1',\n",
        "                       'batch_size',\n",
        "                       'epochs',\n",
        "                       'discriminator_rounds',\n",
        "                       'generator_rounds',\n",
        "                       'mixed_precision_training',\n",
        "                       'tiempo',\n",
        "                       'lookback']\n",
        "        hoja_excel.append(encabezados)\n",
        "\n",
        "    # Añadir datos a una nueva fila\n",
        "    hoja_excel.append(datos)\n",
        "\n",
        "    # Guardar el archivo\n",
        "    libro_excel.save(nombre_archivo)\n",
        "\n",
        "print()"
      ]
    },
    {
      "cell_type": "markdown",
      "metadata": {
        "id": "4XLqnFFWzyiO"
      },
      "source": [
        "# Leer Datasets #"
      ]
    },
    {
      "cell_type": "code",
      "execution_count": null,
      "metadata": {
        "colab": {
          "base_uri": "https://localhost:8080/"
        },
        "id": "GDWBxZ3VzyiP",
        "outputId": "adbbc8e6-ecbf-40ff-e1bb-f292dae7d91f"
      },
      "outputs": [],
      "source": [
        "%%time\n",
        "dataset = read_csv(FILE, parse_dates=True, index_col='date', sep=\",\")"
      ]
    },
    {
      "cell_type": "markdown",
      "metadata": {
        "id": "kua5ag7kzyiR"
      },
      "source": [
        "# Modelo de Generación de Datos Sintéticos #"
      ]
    },
    {
      "cell_type": "code",
      "execution_count": null,
      "metadata": {
        "colab": {
          "background_save": true,
          "base_uri": "https://localhost:8080/"
        },
        "id": "vUMYi7sazyiS",
        "outputId": "b951259c-820e-4fab-ea67-aca52ba8f4d5"
      },
      "outputs": [],
      "source": [
        "%%time\n",
        "\n",
        "inicio = time.time()\n",
        "\n",
        "features = dataset.to_numpy()\n",
        "\n",
        "n = features.shape[0] // look_back\n",
        "\n",
        "features = features[:(n*look_back),:].reshape(-1, look_back, features.shape[1])\n",
        "\n",
        "# Trazar datos reales de 1 día\n",
        "print('Datos Reales')\n",
        "# plot_day(features[1,:,:], key, \"real-1\")\n",
        "# plot_day(features[2,:,:], key, \"real-2\")\n",
        "# plot_day(features[3,:,:], key, \"real-3\")\n",
        "\n",
        "# (# ejemplos, # puntos temporales, # características)\n",
        "print(f'Tamaño datos reales: {features.shape}')\n",
        "\n",
        "# Entrenar el modelo DGAN\n",
        "model = DGAN(DGANConfig(\n",
        "    max_sequence_len = features.shape[1],\n",
        "    sample_len = look_back,\n",
        "    attribute_noise_dim = attribute_noise_dim,\n",
        "    feature_noise_dim = feature_noise_dim,\n",
        "    attribute_num_layers = attribute_num_layers,\n",
        "    attribute_num_units = attribute_num_units,\n",
        "    feature_num_layers = feature_num_layers,\n",
        "    feature_num_units = feature_num_units,\n",
        "    use_attribute_discriminator = use_attribute_discriminator,\n",
        "    normalization = normalization,\n",
        "    apply_feature_scaling = apply_feature_scaling,\n",
        "    apply_example_scaling = apply_example_scaling,\n",
        "    #binary_encoder_cutoff = binary_encoder_cutoff,\n",
        "    forget_bias = forget_bias,\n",
        "    gradient_penalty_coef = gradient_penalty_coef,\n",
        "    attribute_gradient_penalty_coef = attribute_gradient_penalty_coef,\n",
        "    attribute_loss_coef = attribute_loss_coef,\n",
        "    generator_learning_rate = generator_learning_rate,\n",
        "    generator_beta1 = generator_beta1,\n",
        "    discriminator_learning_rate = discriminator_learning_rate,\n",
        "    discriminator_beta1 = discriminator_beta1,\n",
        "    attribute_discriminator_learning_rate = attribute_discriminator_learning_rate,\n",
        "    attribute_discriminator_beta1 = attribute_discriminator_beta1,\n",
        "    batch_size=min(batch_size_min, features.shape[0]),\n",
        "    epochs=epochs,\n",
        "    discriminator_rounds = discriminator_rounds,\n",
        "    generator_rounds = generator_rounds,\n",
        "    mixed_precision_training=mixed_precision_training\n",
        "))\n",
        "\n",
        "model.train_numpy(\n",
        "    features,\n",
        "    feature_types=[OutputType.CONTINUOUS] * features.shape[2],\n",
        ")\n",
        "\n",
        "start_date = dataset.index.min()\n",
        "end_date = dataset.index.max()\n",
        "\n",
        "# Generar datos sintéticos\n",
        "days_to_generate = len(pd.date_range(start_date, end_date, freq='D'))\n",
        "_, synthetic_features = model.generate_numpy(days_to_generate)\n",
        "\n",
        "# Trazar datos sintéticos de 1 día\n",
        "print('Datos sintéticos')\n",
        "#plot_day(features[keys[0],:,:],synthetic_features[keys[0],:,:], keys[0], f\"{keys[0]}\")\n",
        "#plot_day(features[keys[1],:,:],synthetic_features[keys[1],:,:], keys[1], f\"{keys[1]}\")\n",
        "#plot_day(features[keys[2],:,:],synthetic_features[keys[2],:,:], keys[2], f\"{keys[2]}\")\n",
        "\n",
        "\n",
        "# REVISAR\n",
        "# Paso 1: Aplanar las secuencias\n",
        "flattened_features = synthetic_features.reshape(-1, synthetic_features.shape[2])\n",
        "\n",
        "# Paso 2: Crear identificadores para secuencia y paso temporal\n",
        "sequence_indices = np.repeat(range(synthetic_features.shape[0]), synthetic_features.shape[1])\n",
        "timesteps = np.tile(range(synthetic_features.shape[1]), synthetic_features.shape[0])\n",
        "\n",
        "# Paso 3: Crear el DataFrame con las columnas de Secuencia, Timestep y Feature\n",
        "synthetic_df_graphic = pd.DataFrame({\n",
        "    'sequence': sequence_indices,\n",
        "    'timestep': timesteps,\n",
        "    'feature': flattened_features.flatten()\n",
        "})\n",
        "\n",
        "tiempo = time.time() - inicio\n",
        "# Guardar resultados\n",
        "datos_a_agregar = [exp,\n",
        "                   prueba,\n",
        "                    features.shape[1],\n",
        "                    look_back,\n",
        "                    attribute_noise_dim,\n",
        "                    feature_noise_dim,\n",
        "                    attribute_num_layers,\n",
        "                    attribute_num_units,\n",
        "                    feature_num_layers,\n",
        "                    feature_num_units,\n",
        "                    use_attribute_discriminator,\n",
        "                    f\"{normalization}\",\n",
        "                    apply_feature_scaling,\n",
        "                    apply_example_scaling,\n",
        "                    forget_bias,\n",
        "                    gradient_penalty_coef,\n",
        "                    attribute_gradient_penalty_coef,\n",
        "                    attribute_loss_coef,\n",
        "                    generator_learning_rate,\n",
        "                    generator_beta1,\n",
        "                    discriminator_learning_rate,\n",
        "                    discriminator_beta1,\n",
        "                    attribute_discriminator_learning_rate,\n",
        "                    attribute_discriminator_beta1,\n",
        "                    min(batch_size_min, features.shape[0]),\n",
        "                    epochs,\n",
        "                    discriminator_rounds,\n",
        "                    generator_rounds,\n",
        "                    mixed_precision_training,\n",
        "                    tiempo,\n",
        "                    look_back]\n",
        "\n",
        "excel_ejecuciones(datos_a_agregar)\n",
        "print()"
      ]
    },
    {
      "cell_type": "code",
      "execution_count": null,
      "metadata": {
        "colab": {
          "background_save": true
        },
        "id": "P4Wf9CU8DT6S"
      },
      "outputs": [],
      "source": [
        "start_date = dataset.index.min()\n",
        "end_date = dataset.index.max()\n",
        "hourly_date_range = pd.date_range(start=start_date, end=end_date, freq=\"D\")"
      ]
    },
    {
      "cell_type": "code",
      "execution_count": null,
      "metadata": {
        "colab": {
          "background_save": true
        },
        "id": "jAjY6COwitHb"
      },
      "outputs": [],
      "source": [
        "timesteps_per_sequence = synthetic_df_graphic['sequence'].iloc[-1] + 1\n",
        "num_sequences = look_back"
      ]
    },
    {
      "cell_type": "code",
      "execution_count": null,
      "metadata": {
        "colab": {
          "background_save": true
        },
        "id": "M8g6dsLVIy-N"
      },
      "outputs": [],
      "source": [
        "# Repeat the hourly range for each sequence and then truncate to match the needed length\n",
        "hourly_dates = pd.Series(hourly_date_range[:timesteps_per_sequence].repeat(num_sequences))\n",
        "\n",
        "# Update the synthetic dataframe with these hourly timestamps\n",
        "synthetic_df_graphic['date'] = hourly_dates.reset_index(drop=True)"
      ]
    },
    {
      "cell_type": "code",
      "execution_count": null,
      "metadata": {
        "colab": {
          "background_save": true
        },
        "id": "EShf4v7Tu-mA"
      },
      "outputs": [],
      "source": [
        "# synthetic_df_graphic['date'] = start_date + pd.to_timedelta(synthetic_df_graphic['timestep'], unit='D')\n",
        "\n",
        "# # Graficar usando la fecha\n",
        "# plt.figure(figsize=(12, 6))\n",
        "# plt.plot(synthetic_df_graphic['date'], synthetic_df_graphic['feature'], color='blue')\n",
        "# plt.xlabel('Fecha')\n",
        "# plt.ylabel('Feature')\n",
        "# plt.title('Serie Temporal Completa con Fechas')\n",
        "# plt.show()"
      ]
    },
    {
      "cell_type": "markdown",
      "metadata": {
        "id": "0v2UWtYDzyiT"
      },
      "source": [
        "# Comparar Resultados Reales-Sintéticos #"
      ]
    },
    {
      "cell_type": "code",
      "execution_count": null,
      "metadata": {
        "colab": {
          "background_save": true
        },
        "id": "yA_BwCPpD6f2"
      },
      "outputs": [],
      "source": [
        "# Extraer los valores reales y generados del dataset\n",
        "real_values = dataset['chla'].dropna().values\n",
        "\n",
        "\n",
        "def calculate_jsd(real_data, generated_data, bins=50):\n",
        "    # Obtener el rango común para ambos conjuntos de datos\n",
        "    data_min = min(real_data.min(), generated_data.min())\n",
        "    data_max = max(real_data.max(), generated_data.max())\n",
        "\n",
        "    # Crear bin edges basados en este rango común\n",
        "    bins = np.linspace(data_min, data_max, 100)  # Cambia 50 por el número de bins que desees\n",
        "\n",
        "    # Generar histogramas usando los mismos bin edges\n",
        "    # Histograma de los datos reales y generados\n",
        "    real_hist, bin_edges = np.histogram(real_data, bins=bins, density=True)\n",
        "    generated_hist, _ = np.histogram(generated_data, bins=bins, density=True)\n",
        "\n",
        "    # Normalizar las distribuciones para que sumen 1\n",
        "    real_hist = real_hist / np.sum(real_hist)\n",
        "    generated_hist = generated_hist / np.sum(generated_hist)\n",
        "\n",
        "    # Calcular la distancia de Jensen-Shannon\n",
        "    jsd = jensenshannon(real_hist, generated_hist, base=2)\n",
        "\n",
        "    return jsd\n",
        "\n",
        "def calculate_wd(real_data, generated_data):\n",
        "  return wasserstein_distance(real_data, generated_data)\n",
        "\n",
        "def calculate_ks(real_data, generated_data):\n",
        "  return ks_2samp(real_data, generated_data)"
      ]
    },
    {
      "cell_type": "code",
      "execution_count": null,
      "metadata": {
        "colab": {
          "background_save": true
        },
        "id": "BLFI2rftAzRr",
        "outputId": "e5b77317-1fe3-4e10-924f-9f412c9b00d4"
      },
      "outputs": [],
      "source": [
        "resultados = []\n",
        "# Iterar sobre cada timestep y su correspondiente DataFrame\n",
        "for timestep, data in synthetic_df_graphic.groupby('timestep'):\n",
        "    print(f\"Timestep: {timestep}\")\n",
        "    print()\n",
        "    generated_values = data['feature'].dropna().values\n",
        "    # Calcular la distancia de Jensen-Shannon\n",
        "    jsd_value = calculate_jsd(real_values, generated_values)\n",
        "\n",
        "    print(f\"Distancia de Jensen-Shannon: {jsd_value}\")\n",
        "    print()\n",
        "\n",
        "    # Calcular la distancia de Wasserstein\n",
        "    wasserstein_dist = calculate_wd(real_values, generated_values)\n",
        "    print(f\"Wasserstein Distance: {wasserstein_dist}\")\n",
        "    print()\n",
        "\n",
        "    # Realizar el Kolmogorov-Smirnov Test\n",
        "    ks_stat, p_value = calculate_ks(real_values, generated_values)\n",
        "    print(f\"K-S Statistic: {ks_stat}\")\n",
        "    print(f\"P-Value: {p_value}\")\n",
        "    print()\n",
        "    print('-----------------------------------------------------')\n",
        "    # print(data['feature'])\n",
        "    # Agregar el timestep y el valor calculado a la lista como una tupla\n",
        "    resultados.append((timestep, jsd_value, wasserstein_dist, ks_stat, p_value))\n",
        "\n",
        "resultados_df = pd.DataFrame(resultados, columns=['timestep', 'jsd', 'wasserstein', 'ks', 'p-value'])"
      ]
    },
    {
      "cell_type": "code",
      "execution_count": null,
      "metadata": {
        "colab": {
          "background_save": true
        },
        "id": "WeYbCd0JGO01",
        "outputId": "6f2ae766-0522-48c8-fee4-6cc4ddaff889"
      },
      "outputs": [],
      "source": [
        "# Obtener la fila con el valor más bajo en la columna 'valor_calculado'\n",
        "mejor_resultado = resultados_df.loc[resultados_df['wasserstein'].idxmin()]\n",
        "\n",
        "# Mostrar el peor resultado\n",
        "print(\"Mejor resultado:\")\n",
        "print(mejor_resultado)"
      ]
    },
    {
      "cell_type": "code",
      "execution_count": null,
      "metadata": {
        "colab": {
          "background_save": true
        },
        "id": "Om3Pu2tnHPCL"
      },
      "outputs": [],
      "source": [
        "sub_dataframes = {timestep: data for timestep, data in synthetic_df_graphic.groupby('timestep')}\n",
        "\n",
        "# Ahora cada timestep tiene su propio DataFrame, al que puedes acceder con sub_dataframes[timestep]\n",
        "# Ejemplo: Para obtener el DataFrame del timestep 0\n",
        "df_best_tmsp = sub_dataframes[int(mejor_resultado['timestep'])]"
      ]
    },
    {
      "cell_type": "code",
      "execution_count": null,
      "metadata": {
        "colab": {
          "background_save": true
        },
        "id": "e7IMuZuBMD1M"
      },
      "outputs": [],
      "source": [
        "start_date = dataset.index.min()\n",
        "end_date = dataset.index.max()\n",
        "hourly_date_range = pd.date_range(start=start_date, end=end_date, freq=\"D\")\n",
        "\n",
        "df_best_tmsp[\"date\"]= hourly_date_range\n",
        "\n",
        "df_best_tmsp = df_best_tmsp.set_index('date')"
      ]
    },
    {
      "cell_type": "code",
      "execution_count": null,
      "metadata": {
        "colab": {
          "background_save": true
        },
        "id": "6CdFl-YbBheP",
        "outputId": "68276791-e257-4925-98b4-b5e54759cc9b"
      },
      "outputs": [],
      "source": [
        "ancho = 10\n",
        "alto = 7\n",
        "label_x = 'Clorofila (mg/m3)'\n",
        "label_y = 'Densidad'\n",
        "titulo = f'Histograma Experimento {exp} Prueba {prueba}'\n",
        "\n",
        "file_svg_histo = f'histo_{exp}_{prueba}.svg'\n",
        "\n",
        "file_png_histo = f'histo_{exp}_{prueba}.png'\n",
        "\n",
        "# Preparación gráfica\n",
        "fig, ax = plt.subplots(figsize=(ancho, alto))\n",
        "\n",
        "# Crear el gráfico\n",
        "plt.hist([dataset['chla'], df_best_tmsp['feature']],\n",
        "          label=[\"Real\", \"Sintético\"],\n",
        "          bins=25,\n",
        "          density=True, color=['royalblue','seagreen'])\n",
        "# plt.scatter(dataset.index, dataset['chla'], label='Entrenamiento', color='royalblue', marker='o')\n",
        "# plt.scatter(df_best_tmsp.index, df_best_tmsp['feature'], label='Generados (reconstrucción)', color='seagreen', marker='x')\n",
        "\n",
        "# Configuración a los ejes / grid\n",
        "    # Color de fondo\n",
        "ax.set_facecolor('white')\n",
        "\n",
        "    # Configuración del grid\n",
        "ax.grid(True, color='lightgrey', linestyle='--', linewidth=0.7, axis='y', which='major')\n",
        "ax.yaxis.grid(True, color='lightgrey', linestyle='--', linewidth=0.2, which='minor')\n",
        "\n",
        "    # Configuración de los ticks del eje y\n",
        "ax.yaxis.set_major_locator(ticker.MultipleLocator(10))   # Ticks mayores cada 1\n",
        "ax.yaxis.set_minor_locator(ticker.MultipleLocator(50)) # Ticks menores cada 0.5\n",
        "\n",
        "ax.tick_params(axis='y', labelsize=25)\n",
        "\n",
        "    # Configuración de los ticks del eje x\n",
        "ax.tick_params(axis='x', which='major', labelsize=25)\n",
        "\n",
        "# Leyenda\n",
        "ax.legend(fontsize=20)\n",
        "\n",
        "# Configuración de las etiquetas\n",
        "ax.set_xlabel(label_x, fontsize=30, labelpad=25)\n",
        "ax.set_ylabel(label_y, fontsize=30, labelpad=25)\n",
        "ax.set_title(titulo, fontsize=35, pad=10)\n",
        "\n",
        "# Borrar líneas superior y derecha\n",
        "ax.spines['top'].set_visible(False)\n",
        "ax.spines['right'].set_visible(False)\n",
        "\n",
        "# Ajustar imagen\n",
        "plt.tight_layout()\n",
        "\n",
        "# Guardar imagen\n",
        "plt.savefig(file_svg_histo, format='svg')\n",
        "plt.savefig(file_png_histo, format='png')\n",
        "\n",
        "# Mostrar imagen\n",
        "plt.show()"
      ]
    },
    {
      "cell_type": "code",
      "execution_count": null,
      "metadata": {
        "colab": {
          "background_save": true
        },
        "id": "o79s7mXJPISU",
        "outputId": "d7620437-36d0-4e58-b9c8-746726192582"
      },
      "outputs": [],
      "source": [
        "ancho = 15\n",
        "alto = 10\n",
        "label_x = 'Fecha'\n",
        "label_y = 'Clorofila (mg/m3)'\n",
        "titulo = f'Scatter Experimento {exp} Prueba {prueba}'\n",
        "\n",
        "file_svg_scatter = f'scatter_{exp}_{prueba}.svg'\n",
        "\n",
        "file_png_scatter = f'scater_{exp}_{prueba}.png'\n",
        "\n",
        "# Preparación gráfica\n",
        "fig, ax = plt.subplots(figsize=(ancho, alto))\n",
        "\n",
        "# Crear el gráfico\n",
        "plt.scatter(dataset.index, dataset['chla'], label='Entrenamiento', color='royalblue', marker='o')\n",
        "plt.scatter(df_best_tmsp.index, df_best_tmsp['feature'], label='Generados (reconstrucción)', color='seagreen', marker='x', alpha = 0.4)\n",
        "\n",
        "# Configuración a los ejes / grid\n",
        "    # Color de fondo\n",
        "ax.set_facecolor('white')\n",
        "\n",
        "    # Configuración del grid\n",
        "ax.grid(True, color='lightgrey', linestyle='--', linewidth=0.7, axis='y', which='major')\n",
        "ax.yaxis.grid(True, color='lightgrey', linestyle='--', linewidth=0.2, which='minor')\n",
        "\n",
        "    # Configuración de los ticks del eje y\n",
        "ax.yaxis.set_major_locator(ticker.MultipleLocator(10))   # Ticks mayores cada 1\n",
        "ax.yaxis.set_minor_locator(ticker.MultipleLocator(50)) # Ticks menores cada 0.5\n",
        "\n",
        "ax.tick_params(axis='y', labelsize=25)\n",
        "\n",
        "    # Configuración de los ticks del eje x\n",
        "ax.tick_params(axis='x', which='major', labelsize=25)\n",
        "\n",
        "# Leyenda\n",
        "ax.legend(fontsize=20)\n",
        "\n",
        "# Configuración de las etiquetas\n",
        "ax.set_xlabel(label_x, fontsize=30, labelpad=25)\n",
        "ax.set_ylabel(label_y, fontsize=30, labelpad=25)\n",
        "ax.set_title(titulo, fontsize=35, pad=10)\n",
        "\n",
        "# Borrar líneas superior y derecha\n",
        "ax.spines['top'].set_visible(False)\n",
        "ax.spines['right'].set_visible(False)\n",
        "\n",
        "# Ajustar imagen\n",
        "plt.tight_layout()\n",
        "\n",
        "# Guardar imagen\n",
        "plt.savefig(file_svg_scatter, format='svg')\n",
        "plt.savefig(file_png_scatter, format='png')\n",
        "\n",
        "# Mostrar imagen\n",
        "plt.show()"
      ]
    },
    {
      "cell_type": "code",
      "execution_count": null,
      "metadata": {
        "colab": {
          "background_save": true
        },
        "id": "N9CjzkKuJXkz",
        "outputId": "9f01f91c-2238-4eea-eed3-b3b9f58a5229"
      },
      "outputs": [],
      "source": [
        "ancho = 15\n",
        "alto = 10\n",
        "label_x = 'Fecha'\n",
        "label_y = 'Clorofila (mg/m3)'\n",
        "titulo = f'Resultados Experimento {exp} Prueba {prueba}'\n",
        "\n",
        "file_svg_res = f'resultado_{exp}_{prueba}.svg'\n",
        "\n",
        "file_png_res = f'resultado_{exp}_{prueba}.png'\n",
        "\n",
        "# Preparación gráfica\n",
        "fig, ax = plt.subplots(figsize=(ancho, alto))\n",
        "\n",
        "# Crear el gráfico\n",
        "plt.plot(dataset.index, dataset['chla'], label='Entrenamiento', color='royalblue')\n",
        "plt.plot(df_best_tmsp.index, df_best_tmsp['feature'], label='Generados (reconstrucción)', linestyle='--', color='seagreen', alpha = 0.4)\n",
        "\n",
        "# Configuración a los ejes / grid\n",
        "    # Color de fondo\n",
        "ax.set_facecolor('white')\n",
        "\n",
        "    # Configuración del grid\n",
        "ax.grid(True, color='lightgrey', linestyle='--', linewidth=0.7, axis='y', which='major')\n",
        "ax.yaxis.grid(True, color='lightgrey', linestyle='--', linewidth=0.2, which='minor')\n",
        "\n",
        "    # Configuración de los ticks del eje y\n",
        "ax.yaxis.set_major_locator(ticker.MultipleLocator(10))   # Ticks mayores cada 1\n",
        "ax.yaxis.set_minor_locator(ticker.MultipleLocator(50)) # Ticks menores cada 0.5\n",
        "\n",
        "ax.tick_params(axis='y', labelsize=25)\n",
        "\n",
        "    # Configuración de los ticks del eje x\n",
        "ax.tick_params(axis='x', which='major', labelsize=25)\n",
        "\n",
        "# Leyenda\n",
        "ax.legend(fontsize=20)\n",
        "\n",
        "# Configuración de las etiquetas\n",
        "ax.set_xlabel(label_x, fontsize=30, labelpad=25)\n",
        "ax.set_ylabel(label_y, fontsize=30, labelpad=25)\n",
        "ax.set_title(titulo, fontsize=35, pad=10)\n",
        "\n",
        "# Borrar líneas superior y derecha\n",
        "ax.spines['top'].set_visible(False)\n",
        "ax.spines['right'].set_visible(False)\n",
        "\n",
        "# Ajustar imagen\n",
        "plt.tight_layout()\n",
        "\n",
        "# Guardar imagen\n",
        "plt.savefig(file_svg_res, format='svg')\n",
        "plt.savefig(file_png_res, format='png')\n",
        "\n",
        "# Mostrar imagen\n",
        "plt.show()"
      ]
    },
    {
      "cell_type": "markdown",
      "metadata": {
        "id": "keKIHeLq7doE"
      },
      "source": [
        "## Guardar resultados"
      ]
    },
    {
      "cell_type": "code",
      "execution_count": null,
      "metadata": {
        "colab": {
          "background_save": true
        },
        "id": "ezOb9LBV7bcH"
      },
      "outputs": [],
      "source": [
        "df_unido = pd.merge(df_best_tmsp, dataset, on='date', how='outer')"
      ]
    },
    {
      "cell_type": "code",
      "execution_count": null,
      "metadata": {
        "colab": {
          "background_save": true
        },
        "id": "3gfxRL3M-Bl4",
        "outputId": "9fdcab7b-98bf-490d-eca1-0c63785b66ac"
      },
      "outputs": [],
      "source": [
        "df_unido"
      ]
    },
    {
      "cell_type": "code",
      "execution_count": null,
      "metadata": {
        "colab": {
          "background_save": true
        },
        "id": "86Bh1PTc_Jr0"
      },
      "outputs": [],
      "source": [
        "df_unido['chla_full'] = df_unido['chla']\n",
        "df_unido['chla_full'] = df_unido['chla_full'].fillna(df_unido['feature'])"
      ]
    },
    {
      "cell_type": "code",
      "execution_count": null,
      "metadata": {
        "colab": {
          "background_save": true
        },
        "id": "M7Nv3aYe_NOb",
        "outputId": "930575a0-f8c1-483d-c5ba-d9387e07aa1c"
      },
      "outputs": [],
      "source": [
        "df_unido"
      ]
    },
    {
      "cell_type": "code",
      "execution_count": null,
      "metadata": {
        "colab": {
          "background_save": true
        },
        "id": "4UjnV8qi_yri",
        "outputId": "6961c73b-c8f2-48cc-e6e8-04d475c217b2"
      },
      "outputs": [],
      "source": [
        "ancho = 15\n",
        "alto = 10\n",
        "label_x = 'Fecha'\n",
        "label_y = 'Clorofila (mg/m3)'\n",
        "titulo = f'Resultados Experimento {exp} Prueba {prueba}'\n",
        "\n",
        "file_svg_unif = f'unificado_{exp}_{prueba}.svg'\n",
        "\n",
        "file_png_unif = f'unificado_{exp}_{prueba}.png'\n",
        "\n",
        "# Preparación gráfica\n",
        "fig, ax = plt.subplots(figsize=(ancho, alto))\n",
        "\n",
        "# Crear el gráfico\n",
        "plt.plot(df_unido.index, df_unido['chla_full'], color='royalblue')\n",
        "\n",
        "# Configuración a los ejes / grid\n",
        "    # Color de fondo\n",
        "ax.set_facecolor('white')\n",
        "\n",
        "    # Configuración del grid\n",
        "ax.grid(True, color='lightgrey', linestyle='--', linewidth=0.7, axis='y', which='major')\n",
        "ax.yaxis.grid(True, color='lightgrey', linestyle='--', linewidth=0.2, which='minor')\n",
        "\n",
        "    # Configuración de los ticks del eje y\n",
        "ax.yaxis.set_major_locator(ticker.MultipleLocator(10))   # Ticks mayores cada 1\n",
        "ax.yaxis.set_minor_locator(ticker.MultipleLocator(50)) # Ticks menores cada 0.5\n",
        "\n",
        "ax.tick_params(axis='y', labelsize=25)\n",
        "\n",
        "    # Configuración de los ticks del eje x\n",
        "ax.tick_params(axis='x', which='major', labelsize=25)\n",
        "\n",
        "# Leyenda\n",
        "# ax.legend(fontsize=20)\n",
        "\n",
        "# Configuración de las etiquetas\n",
        "ax.set_xlabel(label_x, fontsize=30, labelpad=25)\n",
        "ax.set_ylabel(label_y, fontsize=30, labelpad=25)\n",
        "ax.set_title(titulo, fontsize=35, pad=10)\n",
        "\n",
        "# Borrar líneas superior y derecha\n",
        "ax.spines['top'].set_visible(False)\n",
        "ax.spines['right'].set_visible(False)\n",
        "\n",
        "# Ajustar imagen\n",
        "plt.tight_layout()\n",
        "\n",
        "# Guardar imagen\n",
        "plt.savefig(file_svg_unif, format='svg')\n",
        "plt.savefig(file_png_unif, format='png')\n",
        "\n",
        "# Mostrar imagen\n",
        "plt.show()"
      ]
    },
    {
      "cell_type": "markdown",
      "metadata": {
        "id": "DTozn3CKELuD"
      },
      "source": [
        "## Guardar resultados"
      ]
    },
    {
      "cell_type": "code",
      "execution_count": null,
      "metadata": {
        "colab": {
          "background_save": true
        },
        "id": "fzYBMV0tE8HM"
      },
      "outputs": [],
      "source": [
        "file_chla_data= f'chla_data_{exp}_{prueba}.csv'\n",
        "df_unido.to_csv(file_chla_data, index=True)"
      ]
    },
    {
      "cell_type": "code",
      "execution_count": null,
      "metadata": {
        "colab": {
          "background_save": true
        },
        "id": "K8SR2_kvIIW7",
        "outputId": "a6f42a00-df6f-4d6f-8625-00ad6326a5b6"
      },
      "outputs": [],
      "source": [
        "mejor_resultado"
      ]
    },
    {
      "cell_type": "code",
      "execution_count": null,
      "metadata": {
        "colab": {
          "background_save": true
        },
        "id": "2pB_Rry3IC-P",
        "outputId": "13f1d50f-4018-42c4-980e-d2c392d40378"
      },
      "outputs": [],
      "source": [
        "conf_res_data = {\n",
        "    'experimento': [exp],\n",
        "    'prueba': [prueba],\n",
        "    'timestep': [mejor_resultado[0]],\n",
        "    'jensen_shannon': [mejor_resultado[1]],\n",
        "    'wasserstein_distance': [mejor_resultado[2]],\n",
        "    'kolmogorov_smirnov': [mejor_resultado[3]],\n",
        "    'p_value': [mejor_resultado[4]]\n",
        "}\n",
        "\n",
        "conf_res= pd.DataFrame(conf_res_data)\n",
        "\n",
        "file_conf_res = f'config_results_{exp}_{prueba}.csv'\n",
        "\n",
        "conf_res.to_csv(file_conf_res, index=False)"
      ]
    }
  ],
  "metadata": {
    "accelerator": "GPU",
    "colab": {
      "gpuType": "T4",
      "provenance": []
    },
    "kernelspec": {
      "display_name": "Python 3",
      "name": "python3"
    },
    "language_info": {
      "codemirror_mode": {
        "name": "ipython",
        "version": 3
      },
      "file_extension": ".py",
      "mimetype": "text/x-python",
      "name": "python",
      "nbconvert_exporter": "python",
      "pygments_lexer": "ipython3",
      "version": "3.8.5"
    }
  },
  "nbformat": 4,
  "nbformat_minor": 0
}
